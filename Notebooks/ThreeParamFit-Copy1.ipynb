{
 "cells": [
  {
   "cell_type": "code",
   "execution_count": 9,
   "metadata": {},
   "outputs": [],
   "source": [
    "import numpy as np\n",
    "import matplotlib as mtlp\n",
    "import matplotlib.pyplot as plt\n",
    "import matplotlib.ticker as tck\n",
    "import yaml\n",
    "import pymc3 as pm\n",
    "import math\n",
    "import arviz as az\n",
    "import theano\n",
    "import theano.tensor as tensor\n",
    "import pandas as pd\n",
    "from matplotlib import rc\n",
    "from scipy import optimize\n",
    "import corner as crn\n",
    "import seaborn as sns\n",
    "import pickle \n",
    "from matplotlib.ticker import AutoMinorLocator\n",
    "import matplotlib.patches as mpl_patches\n",
    "######\n",
    "import sys\n",
    "sys.path.append('../HelpherFunctions/')\n",
    "from Chi2Allvar import *\n",
    "######\n",
    "rc('text', usetex=True)\n",
    "plt.rcParams['text.latex.preamble'] = r\"\\usepackage{amsmath}\"\n",
    "plt.rcParams['font.family'] = 'serf'\n",
    "filename =\"../results/data.yaml\"\n",
    "########\n",
    "stream = open(filename, 'r')#\n",
    "data = yaml.safe_load(stream)\n",
    "#\n",
    "colpastil = ['#9cadce','#937eba','#f09494','#72bbd0','#52b2cf','#ffafcc','#d3ab9e' ]\n",
    "NBINS = 100\n",
    "LambdaNP2 = 1e+3**2\n",
    "v4 = 246.**4\n",
    "v3 = 246.**3\n",
    "mh2 = 125.1**2\n",
    "sqrt_2 = np.sqrt(2.0)"
   ]
  },
  {
   "cell_type": "code",
   "execution_count": 10,
   "metadata": {},
   "outputs": [],
   "source": [
    "\n",
    "def mode(x):\n",
    "    \"\"\" Finds the mode of x\n",
    "        argument:\n",
    "            x: an array\n",
    "    \"\"\"\n",
    "    n, bins = np.histogram(x, bins=101)\n",
    "    m = np.argmax(n)\n",
    "    m = (bins[m] + bins[m-1])/2.\n",
    "    return m\n",
    "\n",
    "def multimode(x, n, hdi_prob):\n",
    "    \"\"\" Finds all the modes in the distribution\n",
    "        arguments:\n",
    "            x: the array for the distribution\n",
    "            n: the identifier for the variable\n",
    "    \"\"\"\n",
    "    md = az.hdi(x, hdi_prob=hdi_prob, multimodal=False)\n",
    "    if len(md) < 2 and n > 1:\n",
    "        return np.NaN\n",
    "    else:\n",
    "        return md[n%2]\n",
    "    \n",
    "def mode(x):\n",
    "    # Function to find mode of an array x\n",
    "    n, bins = np.histogram(x, bins=101)\n",
    "    m = np.argmax(n)\n",
    "    m = (bins[m] + bins[m-1])/2.\n",
    "    return m\n",
    "\n",
    "def minimize(likelihood, guess):\n",
    "    \"\"\" Minimizing routine for finding global mode\n",
    "    argument:\n",
    "        likelihood: the likelihood function\n",
    "        guess: the guess for the mode, [r, theta]\n",
    "    \"\"\"\n",
    "    res = optimize.minimize(lambda x: -likelihood(x[0], x[1]), guess, method='BFGS', tol=1e-6)\n",
    "    return res\n",
    "unity = lambda x : x"
   ]
  },
  {
   "cell_type": "code",
   "execution_count": 14,
   "metadata": {},
   "outputs": [],
   "source": [
    "def runMCMC(likelihood, limits, trace_dir='', config=[], fit=True):\n",
    "    \"\"\" pyMC3 MCMC run\n",
    "        argument:\n",
    "            likelihood: the likelihood function\n",
    "            limits: an array of the limits for the parameters [r_lowers, r_upper, theta_lower, theta_upper]\n",
    "            trace_dir: the directory to which the MCMC traces are saves. '' implies none\n",
    "            config: the setup for the MCMC. [MCMC smaple size, target_accept, chains]\n",
    "            fit: bolean for determining whether to run the fit\n",
    "        returns:\n",
    "            trace: if fit is true it returns the trace\n",
    "            model;if fit is false it returns the model\n",
    "    \"\"\"\n",
    "    with pm.Model() as model:\n",
    "        k1 = pm.Uniform('k1', lower=limits[0], upper=limits[1])\n",
    "        k2 = pm.Uniform('k2', lower=limits[2], upper=limits[3])\n",
    "        k3 = pm.Uniform('k3', lower=limits[4], upper=limits[5])\n",
    "\n",
    "        like = pm.Potential('like', likelihood(k1, k2, k3))\n",
    "        \n",
    "    if fit:\n",
    "        with model:\n",
    "            trace = pm.sample(config[0], tune=int(np.max([1000,config[0]/5])), cores=4, target_accept=config[1], chains=config[2], init='advi_map')\n",
    "#             print(az.summary(trace, round_to=5)) # Turn on to print summary\n",
    "            if trace_dir != '': pm.save_trace(trace=trace, directory=trace_dir, overwrite=True)\n",
    "        return trace, model\n",
    "    return model\n",
    "\n",
    "def makeCorner(trace, model, filename, collider, label, limit, lambdas=[unity, unity, unity]):\n",
    "    \"\"\" Corner plot builder\n",
    "    argument:\n",
    "        trace: the trace from the pyMC3 run\n",
    "        filename: the file to save the plot in\n",
    "        collider: a string with the collider name to attach to the plot\n",
    "    \"\"\"\n",
    "    var = ['k1', 'k2', 'k3']\n",
    "    \n",
    "    samples = np.vstack((lambdas[0](trace['k1']), lambdas[1](trace['k2']), lambdas[2](trace['k3']))).T\n",
    "\n",
    "    if lambdas[0] != unity:\n",
    "        limit_t = np.array(limit)\n",
    "        limit_t[0] = lambdas[0](limit[1])\n",
    "        limit_t[1] = lambdas[0](limit[0])\n",
    "        limit_t[2] = lambdas[1](limit[3])\n",
    "        limit_t[3] = lambdas[1](limit[2])\n",
    "        limit_t[4] = lambdas[2](limit[5])\n",
    "        limit_t[5] = lambdas[2](limit[4])\n",
    "        limits = limit_t\n",
    "    else: limits = limit\n",
    "    \n",
    "    \n",
    "    fig = plt.figure(figsize=(12,12))\n",
    "    fig = crn.corner(samples,labels = [label[0], label[1], label[2]], \n",
    "                     truths = None, bins=NBINS,\n",
    "                     show_titles=True, title_kwargs={\"fontsize\": 30}, label_kwargs={\"fontsize\": 30},\n",
    "                     levels=(1.-np.exp(-0.5),1.-np.exp(-2.),\n",
    "                             #1.-np.exp(-4.5)\n",
    "                            ), \n",
    "                     plot_contours = True, fill_contours=True, smooth=True, smooth1d=None,\n",
    "                     plot_datapoints = False, color='#937eba', labelpad=-0.15, fig=fig, title_fmt='.3f', hist_kwargs={'linewidth': 2, 'histtype': 'bar'}, \n",
    "                     range=[(limits[0],limits[1]), (limits[2], limits[3]), (limits[4], limits[5])], truth_color='#343434')\n",
    "    \n",
    "    stats_func_1 = {\n",
    "        'b0': lambda x: multimode(x, 0, 0.6827),\n",
    "        'b1': lambda x: multimode(x, 1, 0.6827),\n",
    "        }\n",
    "    \n",
    "    stats_func_2 = {\n",
    "        'b0': lambda x: multimode(x, 0, 0.9545),\n",
    "        'b1': lambda x: multimode(x, 1, 0.9545),\n",
    "        }\n",
    "    \n",
    " #   stats_func_3 = {\n",
    "  ##      'b0': lambda x: multimode(x, 0, 0.9973),\n",
    "  #      'b1': lambda x: multimode(x, 1, 0.9973),\n",
    "  #      }\n",
    "    \n",
    "    df_1 = pd.DataFrame(az.summary(trace, kind='stats', hdi_prob=0.6827, round_to='none', stat_funcs=stats_func_1))\n",
    "    df_2 = pd.DataFrame(az.summary(trace, kind='stats', hdi_prob=0.9545, round_to='none', stat_funcs=stats_func_2))\n",
    "  #  df_3 = pd.DataFrame(az.summary(trace, kind='stats', hdi_prob=0.9973, round_to='none', stat_funcs=stats_func_3))\n",
    "\n",
    "    for ax in fig.get_axes():\n",
    "        ax.xaxis.set_minor_locator(AutoMinorLocator())\n",
    "        ax.yaxis.set_minor_locator(AutoMinorLocator())\n",
    "        ax.tick_params(axis='y', which='both', direction='in')\n",
    "        ax.tick_params(axis='x',  which='both',direction='in')\n",
    "        ax.tick_params(axis='y', which='minor', top=True, size= 5)\n",
    "        ax.tick_params(axis='x',  which='minor',right=True,size= 5)\n",
    "        ax.tick_params(axis='y', which='major', labelsize=28, rotation=0,top=True,size=10 )\n",
    "        ax.tick_params(axis='x',  which='major',labelsize=28, rotation=0,right=True,size=10 )\n",
    "    \n",
    "    ax = fig.get_axes()\n",
    "    \n",
    "    for j in range(3):\n",
    "        for i in range(NBINS):\n",
    "            \n",
    "            lim_1l = min(lambdas[j](df_1.loc[var[j]]['b0']), lambdas[j](df_1.loc[var[j]]['b1']))\n",
    "            lim_1u = max(lambdas[j](df_1.loc[var[j]]['b0']), lambdas[j](df_1.loc[var[j]]['b1']))\n",
    "            \n",
    "            lim_2l = min(lambdas[j](df_2.loc[var[j]]['b0']), lambdas[j](df_2.loc[var[j]]['b1']))\n",
    "            lim_2u = max(lambdas[j](df_2.loc[var[j]]['b0']), lambdas[j](df_2.loc[var[j]]['b1']))\n",
    "            \n",
    "      #      lim_3l = min(lambdas[j](df_3.loc[var[j]]['b0']), lambdas[j](df_3.loc[var[j]]['b1']))\n",
    "       #     lim_3u = max(lambdas[j](df_3.loc[var[j]]['b0']), lambdas[j](df_3.loc[var[j]]['b1']))\n",
    "            \n",
    "            if ax[4*j].patches[i].xy[0] > lim_1l and ax[4*j].patches[i].xy[0] < lim_1u:\n",
    "                ax[4*j].patches[i].set_alpha(1)\n",
    "            elif ax[4*j].patches[i].xy[0] > lim_2l and ax[4*j].patches[i].xy[0] < lim_2u:\n",
    "                ax[4*j].patches[i].set_alpha(0.5)\n",
    "           # elif ax[4*j].patches[i].xy[0] > lim_3l and ax[4*j].patches[i].xy[0] < lim_3u:\n",
    "             #   ax[4*j].patches[i].set_alpha(0.25)\n",
    "            else:\n",
    "                ax[4*j].patches[i].set_alpha(0.25)\n",
    "    \n",
    "    \n",
    "    ## 1D histogram labels\n",
    "    ax[0].set_title(label[0]+r'$ = [{:.3f}, {:.3f}]$'.format(lambdas[0](df_2.loc['k1']['hdi_2.275%']), lambdas[0](df_2.loc['k1']['hdi_97.725%'])), fontsize=30)\n",
    "    ax[4].set_title(label[1]+r'$ = [{:.3f}, {:.3f}]$'.format(lambdas[0](df_2.loc['k2']['hdi_2.275%']), lambdas[0](df_2.loc['k2']['hdi_97.725%'])), fontsize=30)\n",
    "    ax[8].set_title(label[2]+r'$ = [{:.3f}, {:.3f}]$'.format(lambdas[0](df_2.loc['k3']['hdi_2.275%']), lambdas[0](df_2.loc['k3']['hdi_97.725%'])), fontsize=30)\n",
    "    #if collider == 'HL-LHC': ax[8].set_title(label[2]+r'$ = [{:.3f}, {:.3f}]$'.format(lambdas[2](df_1.loc['k3']['hdi_84.135%']), lambdas[2](df_1.loc['k3']['hdi_15.865%'])), fontsize=22)\n",
    "    #else: ax[8].set_title(label[2]+r'$ = [{:.3f}, {:.3f}]$'.format(lambdas[2](df_1.loc['k3']['hdi_84.135%']), lambdas[2](df_1.loc['k3']['hdi_15.865%'])), fontsize=22)\n",
    "    \n",
    "    ## title\n",
    "    ax[1].annotate(collider, xy=(0.5, 0.7), xycoords='axes fraction', horizontalalignment='center',\n",
    "                verticalalignment='center', fontsize=28, fontweight='bold')\n",
    "    ax[1].annotate(r'Higgs data @ 95\\% CI ', xy=(0.5, 0.5), xycoords='axes fraction', horizontalalignment='center',\n",
    "                verticalalignment='center', fontsize=26)\n",
    "    ax[1].annotate(r'$\\mu^L\\,\\lambda_3^L$', xy=(0.5, 0.3), xycoords='axes fraction', horizontalalignment='center',\n",
    "                verticalalignment='center', fontsize=26)\n",
    "   # ax[1].annotate(label[1]+r'$ = 0$', xy=(0.5, 0.4), xycoords='axes fraction', horizontalalignment='center',\n",
    "             #   verticalalignment='center', fontsize=22)\n",
    "   # ax[1].annotate(label[2]+r'$ = 0$', xy=(0.5, 0.3), xycoords='axes fraction', horizontalalignment='center',\n",
    "           #     verticalalignment='center', fontsize=22)\n",
    "    \n",
    "    ## grid\n",
    "    #ax[3].grid(linestyle=':', zorder=0)\n",
    "   # ax[6].grid(linestyle=':', zorder=0)\n",
    "   # ax[7].grid(linestyle=':', zorder=0)\n",
    "    ax[3].tick_params(\n",
    "    axis='x',          # changes apply to the x-axis\n",
    "    which='both',      # both major and minor ticks are affected\n",
    "    bottom=True,      # ticks along the bottom edge are off\n",
    "    top=True,         # ticks along the top edge are off)\n",
    "      )\n",
    "    ax[3].tick_params(\n",
    "    axis='y',          # changes apply to the x-axis\n",
    "    which='both',      # both major and minor ticks are affected\n",
    "    left=True,      # ticks along the bottom edge are off\n",
    "    right=True,         # ticks along the top edge are off)\n",
    "         ) \n",
    "    ax[6].tick_params(\n",
    "    axis='x',          # changes apply to the x-axis\n",
    "    which='both',      # both major and minor ticks are affected\n",
    "    bottom=True,      # ticks along the bottom edge are off\n",
    "    top=True,         # ticks along the top edge are off)\n",
    "      )\n",
    "    ax[6].tick_params(\n",
    "    axis='y',          # changes apply to the x-axis\n",
    "    which='both',      # both major and minor ticks are affected\n",
    "    left=True,      # ticks along the bottom edge are off\n",
    "    right=True,         # ticks along the top edge are off)\n",
    "         ) \n",
    "    ax[7].tick_params(\n",
    "    axis='x',          # changes apply to the x-axis\n",
    "    which='both',      # both major and minor ticks are affected\n",
    "    bottom=True,      # ticks along the bottom edge are off\n",
    "    top=True,         # ticks along the top edge are off)\n",
    "      )\n",
    "    ax[7].tick_params(\n",
    "    axis='y',          # changes apply to the x-axis\n",
    "    which='both',      # both major and minor ticks are affected\n",
    "    left=True,      # ticks along the bottom edge are off\n",
    "    right=True,         # ticks along the top edge are off)\n",
    "         ) \n",
    "    \n",
    "    plt.tight_layout()\n",
    "    fig.savefig(filename, dpi=300, bbox_inches='tight')\n",
    "    plt.show()"
   ]
  },
  {
   "cell_type": "code",
   "execution_count": null,
   "metadata": {},
   "outputs": [],
   "source": [
    "## \n",
    "llCqtm =lambda Cqu1,Cqu8,CH :mylikelihoodAV(Cqu1,Cqu8,0.0,0.0,CH,data,experiments=['CMS','ATLAS'],\n",
    "                                                                           HiggsChannels=['ggf','vbf','ttxh','vh','zh','wh']\n",
    "                                                                           ,TopChannels=None, linearl3=True,linearmu=True)\n",
    "limits = [-2.5, 1.5,-15.5,10.5, -15, 140]\n",
    "config = [15000, 0.8, 50]\n",
    "trace_1, model_1 = runMCMC(llCqtm, limits, config=config)\n",
    "filename = '../results/plots/Cqt1_Cqt8_Cphi.pdf'\n",
    "makeCorner(trace_1, model_1, filename, collider=r'ATLAS+CMS', \n",
    "           label=[r\"$C_{Qt}^{(1)}$\",r\"$C_{Qt}^{(8)}$\", r\"$C_\\phi$\"], \n",
    "           limit=limits)"
   ]
  },
  {
   "cell_type": "code",
   "execution_count": null,
   "metadata": {},
   "outputs": [
    {
     "name": "stderr",
     "output_type": "stream",
     "text": [
      "Auto-assigning NUTS sampler...\n",
      "Initializing NUTS using advi_map...\n"
     ]
    },
    {
     "data": {
      "text/html": [
       "\n",
       "    <div>\n",
       "        <style>\n",
       "            /* Turns off some styling */\n",
       "            progress {\n",
       "                /* gets rid of default border in Firefox and Opera. */\n",
       "                border: none;\n",
       "                /* Needs to be in here for Safari polyfill so background images work as expected. */\n",
       "                background-size: auto;\n",
       "            }\n",
       "            .progress-bar-interrupted, .progress-bar-interrupted::-webkit-progress-bar {\n",
       "                background: #F44336;\n",
       "            }\n",
       "        </style>\n",
       "      <progress value='25' class='' max='25' style='width:300px; height:20px; vertical-align: middle;'></progress>\n",
       "      100.00% [25/25 00:00<00:00 logp = -24.181, ||grad|| = 0.14504]\n",
       "    </div>\n",
       "    "
      ],
      "text/plain": [
       "<IPython.core.display.HTML object>"
      ]
     },
     "metadata": {},
     "output_type": "display_data"
    },
    {
     "name": "stdout",
     "output_type": "stream",
     "text": [
      "\n"
     ]
    },
    {
     "data": {
      "text/html": [
       "\n",
       "    <div>\n",
       "        <style>\n",
       "            /* Turns off some styling */\n",
       "            progress {\n",
       "                /* gets rid of default border in Firefox and Opera. */\n",
       "                border: none;\n",
       "                /* Needs to be in here for Safari polyfill so background images work as expected. */\n",
       "                background-size: auto;\n",
       "            }\n",
       "            .progress-bar-interrupted, .progress-bar-interrupted::-webkit-progress-bar {\n",
       "                background: #F44336;\n",
       "            }\n",
       "        </style>\n",
       "      <progress value='17924' class='' max='200000' style='width:300px; height:20px; vertical-align: middle;'></progress>\n",
       "      8.96% [17924/200000 00:03<00:34 Average Loss = 24.146]\n",
       "    </div>\n",
       "    "
      ],
      "text/plain": [
       "<IPython.core.display.HTML object>"
      ]
     },
     "metadata": {},
     "output_type": "display_data"
    },
    {
     "name": "stderr",
     "output_type": "stream",
     "text": [
      "Convergence achieved at 18500\n",
      "Interrupted at 18,499 [9%]: Average Loss = 183.97\n",
      "Multiprocess sampling (50 chains in 4 jobs)\n",
      "NUTS: [k3, k2, k1]\n"
     ]
    },
    {
     "data": {
      "text/html": [
       "\n",
       "    <div>\n",
       "        <style>\n",
       "            /* Turns off some styling */\n",
       "            progress {\n",
       "                /* gets rid of default border in Firefox and Opera. */\n",
       "                border: none;\n",
       "                /* Needs to be in here for Safari polyfill so background images work as expected. */\n",
       "                background-size: auto;\n",
       "            }\n",
       "            .progress-bar-interrupted, .progress-bar-interrupted::-webkit-progress-bar {\n",
       "                background: #F44336;\n",
       "            }\n",
       "        </style>\n",
       "      <progress value='5162803' class='' max='9000000' style='width:300px; height:20px; vertical-align: middle;'></progress>\n",
       "      57.36% [5162803/9000000 2:49:39<2:06:05 Sampling 50 chains, 0 divergences]\n",
       "    </div>\n",
       "    "
      ],
      "text/plain": [
       "<IPython.core.display.HTML object>"
      ]
     },
     "metadata": {},
     "output_type": "display_data"
    }
   ],
   "source": [
    "llCqtm =lambda Cqu1,Cqu8,CH :mylikelihoodAV(0.0,0.0,Cqu1,Cqu8,CH,data,experiments=['CMS','ATLAS'],\n",
    "                                                                           HiggsChannels=['ggf','vbf','ttxh','vh','zh','wh']\n",
    "                                                                           ,TopChannels=None, linearl3=True,linearmu=True)\n",
    "limits = [-8.5, 12.5,-60.5,50, -60, 160]\n",
    "config = [150000, 0.8, 50]\n",
    "trace_1, model_1 = runMCMC(llCqtm, limits, config=config)\n",
    "filename = '../results/plots/Cqtqb1_Cqtqb8_Cphi.pdf'\n",
    "makeCorner(trace_1, model_1, filename, collider='ATLAS+CMS', \n",
    "           label=[r\"$C_{QtQb}^{(1)}$\",r\"$C_{QtQb}^{(8)}$\", r\"$C_\\phi$\"], \n",
    "           limit=limits)"
   ]
  },
  {
   "cell_type": "code",
   "execution_count": 46,
   "metadata": {},
   "outputs": [
    {
     "name": "stderr",
     "output_type": "stream",
     "text": [
      "Auto-assigning NUTS sampler...\n",
      "Initializing NUTS using advi_map...\n"
     ]
    },
    {
     "data": {
      "text/html": [
       "\n",
       "    <div>\n",
       "        <style>\n",
       "            /* Turns off some styling */\n",
       "            progress {\n",
       "                /* gets rid of default border in Firefox and Opera. */\n",
       "                border: none;\n",
       "                /* Needs to be in here for Safari polyfill so background images work as expected. */\n",
       "                background-size: auto;\n",
       "            }\n",
       "            .progress-bar-interrupted, .progress-bar-interrupted::-webkit-progress-bar {\n",
       "                background: #F44336;\n",
       "            }\n",
       "        </style>\n",
       "      <progress value='8' class='' max='8' style='width:300px; height:20px; vertical-align: middle;'></progress>\n",
       "      100.00% [8/8 00:00<00:00 logp = -20.741, ||grad|| = 3.0627]\n",
       "    </div>\n",
       "    "
      ],
      "text/plain": [
       "<IPython.core.display.HTML object>"
      ]
     },
     "metadata": {},
     "output_type": "display_data"
    },
    {
     "name": "stdout",
     "output_type": "stream",
     "text": [
      "\n"
     ]
    },
    {
     "data": {
      "text/html": [
       "\n",
       "    <div>\n",
       "        <style>\n",
       "            /* Turns off some styling */\n",
       "            progress {\n",
       "                /* gets rid of default border in Firefox and Opera. */\n",
       "                border: none;\n",
       "                /* Needs to be in here for Safari polyfill so background images work as expected. */\n",
       "                background-size: auto;\n",
       "            }\n",
       "            .progress-bar-interrupted, .progress-bar-interrupted::-webkit-progress-bar {\n",
       "                background: #F44336;\n",
       "            }\n",
       "        </style>\n",
       "      <progress value='1772' class='' max='200000' style='width:300px; height:20px; vertical-align: middle;'></progress>\n",
       "      0.89% [1772/200000 00:00<00:42 Average Loss = 16.227]\n",
       "    </div>\n",
       "    "
      ],
      "text/plain": [
       "<IPython.core.display.HTML object>"
      ]
     },
     "metadata": {},
     "output_type": "display_data"
    },
    {
     "name": "stderr",
     "output_type": "stream",
     "text": [
      "Convergence achieved at 2300\n",
      "Interrupted at 2,299 [1%]: Average Loss = 16.185\n",
      "Multiprocess sampling (50 chains in 4 jobs)\n",
      "NUTS: [k3, k2, k1]\n"
     ]
    },
    {
     "data": {
      "text/html": [
       "\n",
       "    <div>\n",
       "        <style>\n",
       "            /* Turns off some styling */\n",
       "            progress {\n",
       "                /* gets rid of default border in Firefox and Opera. */\n",
       "                border: none;\n",
       "                /* Needs to be in here for Safari polyfill so background images work as expected. */\n",
       "                background-size: auto;\n",
       "            }\n",
       "            .progress-bar-interrupted, .progress-bar-interrupted::-webkit-progress-bar {\n",
       "                background: #F44336;\n",
       "            }\n",
       "        </style>\n",
       "      <progress value='9000000' class='' max='9000000' style='width:300px; height:20px; vertical-align: middle;'></progress>\n",
       "      100.00% [9000000/9000000 57:16<00:00 Sampling 50 chains, 0 divergences]\n",
       "    </div>\n",
       "    "
      ],
      "text/plain": [
       "<IPython.core.display.HTML object>"
      ]
     },
     "metadata": {},
     "output_type": "display_data"
    },
    {
     "name": "stderr",
     "output_type": "stream",
     "text": [
      "Sampling 50 chains for 30_000 tune and 150_000 draw iterations (1_500_000 + 7_500_000 draws total) took 3454 seconds.\n",
      "Got error No model on context stack. trying to find log_likelihood in translation.\n",
      "Got error No model on context stack. trying to find log_likelihood in translation.\n"
     ]
    },
    {
     "data": {
      "image/png": "[encoded data removed]",
      "text/plain": [
       "<Figure size 864x864 with 9 Axes>"
      ]
     },
     "metadata": {
      "needs_background": "light"
     },
     "output_type": "display_data"
    }
   ],
   "source": [
    "CF= 4/3\n",
    "Nc=3\n",
    "llCqtm =lambda Cqu,Cquqb,CH :mylikelihoodAV(Cqu/2,1/2/CF*Cqu,1/(2*Nc+1)*Cquqb/2,1/CF*Cquqb/2,CH,data,experiments=['CMS','ATLAS'],\n",
    "                                                                           HiggsChannels=['ggf','vbf','ttxh','vh','zh','wh']\n",
    "                                                                           ,TopChannels=None, linearl3=True,linearmu=True)\n",
    "limits = [-2.0, 3.0,-5.,5., -60, 160]\n",
    "config = [150000, 0.8, 50]\n",
    "trace_1, model_1 = runMCMC(llCqtm, limits, config=config)\n",
    "filename = '../results/plots/Cqtnew_Cqtqbnew_Cphi.pdf'\n",
    "makeCorner(trace_1, model_1, filename, collider='ATLAS+CMS', \n",
    "           label=[r\"$C_{Qt}^{(1,\\mathrm{new})}$\",r\"$C_{QtQb}^{(1,\\mathrm{new})}$\", r\"$C_\\phi$\"], \n",
    "           limit=limits)"
   ]
  },
  {
   "cell_type": "code",
   "execution_count": null,
   "metadata": {},
   "outputs": [],
   "source": []
  }
 ],
 "metadata": {
  "kernelspec": {
   "display_name": "python3.9",
   "language": "python",
   "name": "python3.9"
  },
  "language_info": {
   "codemirror_mode": {
    "name": "ipython",
    "version": 3
   },
   "file_extension": ".py",
   "mimetype": "text/x-python",
   "name": "python",
   "nbconvert_exporter": "python",
   "pygments_lexer": "ipython3",
   "version": "3.9.5"
  }
 },
 "nbformat": 4,
 "nbformat_minor": 4
}
