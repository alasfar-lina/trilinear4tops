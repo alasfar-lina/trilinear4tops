{
 "cells": [
  {
   "cell_type": "code",
   "execution_count": null,
   "id": "f1d6aca3-3a4e-4165-b424-e42a015f5d12",
   "metadata": {},
   "outputs": [],
   "source": [
    "import numpy as np\n",
    "import matplotlib as mtlp\n",
    "import matplotlib.pyplot as plt\n",
    "import matplotlib.ticker as tck\n",
    "import yaml\n",
    "import math\n",
    "import pandas as pd\n",
    "from matplotlib import rc\n",
    "from matplotlib.ticker import AutoMinorLocator\n",
    "import matplotlib.patches as mpl_patches\n",
    "## ***************************************************************************\n",
    "## * RC param                                                                 *\n",
    "## ***************************************************************************\n",
    "plt.rcParams['xtick.top'] = True\n",
    "plt.rcParams['xtick.major.size'] = 10\n",
    "plt.rcParams['xtick.minor.size'] = 5\n",
    "plt.rcParams['xtick.direction'] = 'in'\n",
    "plt.rcParams['ytick.right'] = True\n",
    "plt.rcParams['ytick.major.size'] = 10\n",
    "plt.rcParams['ytick.minor.size'] = 5\n",
    "plt.rcParams['ytick.direction'] = 'in'\n",
    "plt.rcParams['xtick.labelsize'] = 22\n",
    "plt.rcParams['ytick.labelsize'] = 22\n",
    "rc('text', usetex=True)\n",
    "plt.rcParams['text.latex.preamble'] = r\"\\usepackage{amsmath}\"\n",
    "plt.rcParams['font.family'] = 'serf'\n",
    "## ***************************************************************************\n",
    "labs =[r'$C_\\phi$',r'$C_{\\phi D}$', r'$C_{\\phi \\Box}$', r'$C_{\\phi G}$',  r'$C_{\\phi W}$', r'$C_{\\phi B}$',  r'$C_{\\phi W B}$',\n",
    "       r'$C_{\\phi l}^{(1)}$', r'$C_{\\phi l}^{(3)}$',  r'$C_{\\phi e}$', r'$C_{\\phi q}^{(1)}$',r'$C_{\\phi q}^{(3)}$', \n",
    "       r'$C_{\\phi u}$',  r'$C_{\\phi d}$', r'$C_{\\tau \\phi}$',  r'$C_{t \\phi}$',  r'$C_{b \\phi}$', r'$C_{tb \\phi}$', \n",
    "       r'$C_{t G}$',  r'$C_{t W}$',  r'$C_{t B}$', r'$C_{G}$']\n",
    "labs4f =[r'$C_{Qq}^{(1)}$',r'$C_{Qq}^{(3)}$',r'$C_{tu}$',r'$C_{td}$',r'$C_{Qu}^{(1)}$',r'$C_{Qu}^{(8)}$',r'$C_{Qd}^{(1)}$',r'$C_{Qd}^{(8)}$']\n",
    "# ch chd-ew chd chg-ew chg \n",
    "\n",
    "c =[0,0.8,1.2,1.8,2.2,2.8,3.2,3.8,4.2,]\n",
    "valsup = [ 20.2,1.24, 0.575,2.44,0.0083, 0.009,1.63,0.328,0.731,0.271]\n",
    "valsdn= [−23.4,−2.7,-0.636,−3.41,−0.0164,-0.024,−0.141,-0.430,−0.4490,-0.721 ]"
   ]
  }
 ],
 "metadata": {
  "kernelspec": {
   "display_name": "python3.9",
   "language": "python",
   "name": "python3.9"
  },
  "language_info": {
   "codemirror_mode": {
    "name": "ipython",
    "version": 3
   },
   "file_extension": ".py",
   "mimetype": "text/x-python",
   "name": "python",
   "nbconvert_exporter": "python",
   "pygments_lexer": "ipython3",
   "version": "3.9.5"
  }
 },
 "nbformat": 4,
 "nbformat_minor": 5
}
